{
 "cells": [
  {
   "cell_type": "markdown",
   "id": "6679d070",
   "metadata": {},
   "source": [
    "### Implementing Adaline on the Iris data\n",
    "##### By: Lance Dominic C. Raquel"
   ]
  },
  {
   "cell_type": "markdown",
   "id": "4d260c5f",
   "metadata": {},
   "source": [
    "#### 1. Import the following modules:"
   ]
  },
  {
   "cell_type": "code",
   "execution_count": 1,
   "id": "6399d35b",
   "metadata": {},
   "outputs": [],
   "source": [
    "import pandas as pd \n",
    "import numpy as np \n",
    "import matplotlib.pyplot as plt \n",
    "from matplotlib  import cm\n",
    "import sklearn.cluster as cluster\n",
    "from sklearn import datasets"
   ]
  },
  {
   "cell_type": "markdown",
   "id": "651dd2aa",
   "metadata": {},
   "source": [
    "#### Part I – Importing the Dataset "
   ]
  },
  {
   "cell_type": "markdown",
   "id": "ae21964d",
   "metadata": {},
   "source": [
    "##### 1.) Import the Iris data by:"
   ]
  },
  {
   "cell_type": "code",
   "execution_count": 2,
   "id": "5ae85f51",
   "metadata": {},
   "outputs": [],
   "source": [
    "df = pd.read_csv('https://archive.ics.uci.edu/ml/'\n",
    "        'machine-learning-databases/iris/iris.data', header=None)"
   ]
  },
  {
   "cell_type": "markdown",
   "id": "fd24b9a0",
   "metadata": {},
   "source": [
    "##### # 2. Show the last 5 rows of the data"
   ]
  },
  {
   "cell_type": "code",
   "execution_count": 3,
   "id": "eaf374df",
   "metadata": {},
   "outputs": [
    {
     "data": {
      "text/html": [
       "<div>\n",
       "<style scoped>\n",
       "    .dataframe tbody tr th:only-of-type {\n",
       "        vertical-align: middle;\n",
       "    }\n",
       "\n",
       "    .dataframe tbody tr th {\n",
       "        vertical-align: top;\n",
       "    }\n",
       "\n",
       "    .dataframe thead th {\n",
       "        text-align: right;\n",
       "    }\n",
       "</style>\n",
       "<table border=\"1\" class=\"dataframe\">\n",
       "  <thead>\n",
       "    <tr style=\"text-align: right;\">\n",
       "      <th></th>\n",
       "      <th>0</th>\n",
       "      <th>1</th>\n",
       "      <th>2</th>\n",
       "      <th>3</th>\n",
       "      <th>4</th>\n",
       "    </tr>\n",
       "  </thead>\n",
       "  <tbody>\n",
       "    <tr>\n",
       "      <th>145</th>\n",
       "      <td>6.7</td>\n",
       "      <td>3.0</td>\n",
       "      <td>5.2</td>\n",
       "      <td>2.3</td>\n",
       "      <td>Iris-virginica</td>\n",
       "    </tr>\n",
       "    <tr>\n",
       "      <th>146</th>\n",
       "      <td>6.3</td>\n",
       "      <td>2.5</td>\n",
       "      <td>5.0</td>\n",
       "      <td>1.9</td>\n",
       "      <td>Iris-virginica</td>\n",
       "    </tr>\n",
       "    <tr>\n",
       "      <th>147</th>\n",
       "      <td>6.5</td>\n",
       "      <td>3.0</td>\n",
       "      <td>5.2</td>\n",
       "      <td>2.0</td>\n",
       "      <td>Iris-virginica</td>\n",
       "    </tr>\n",
       "    <tr>\n",
       "      <th>148</th>\n",
       "      <td>6.2</td>\n",
       "      <td>3.4</td>\n",
       "      <td>5.4</td>\n",
       "      <td>2.3</td>\n",
       "      <td>Iris-virginica</td>\n",
       "    </tr>\n",
       "    <tr>\n",
       "      <th>149</th>\n",
       "      <td>5.9</td>\n",
       "      <td>3.0</td>\n",
       "      <td>5.1</td>\n",
       "      <td>1.8</td>\n",
       "      <td>Iris-virginica</td>\n",
       "    </tr>\n",
       "  </tbody>\n",
       "</table>\n",
       "</div>"
      ],
      "text/plain": [
       "       0    1    2    3               4\n",
       "145  6.7  3.0  5.2  2.3  Iris-virginica\n",
       "146  6.3  2.5  5.0  1.9  Iris-virginica\n",
       "147  6.5  3.0  5.2  2.0  Iris-virginica\n",
       "148  6.2  3.4  5.4  2.3  Iris-virginica\n",
       "149  5.9  3.0  5.1  1.8  Iris-virginica"
      ]
     },
     "execution_count": 3,
     "metadata": {},
     "output_type": "execute_result"
    }
   ],
   "source": [
    "df.tail()"
   ]
  },
  {
   "cell_type": "markdown",
   "id": "fd0a795d",
   "metadata": {},
   "source": [
    "#### Part II - Select setosa and versicolor\n",
    "##### 1. From the data set select setosa and versicolor. Print the data to see its values, e.g., print(df) where df contains the data."
   ]
  },
  {
   "cell_type": "code",
   "execution_count": 4,
   "id": "8fb36ea6",
   "metadata": {},
   "outputs": [
    {
     "data": {
      "text/html": [
       "<div>\n",
       "<style scoped>\n",
       "    .dataframe tbody tr th:only-of-type {\n",
       "        vertical-align: middle;\n",
       "    }\n",
       "\n",
       "    .dataframe tbody tr th {\n",
       "        vertical-align: top;\n",
       "    }\n",
       "\n",
       "    .dataframe thead th {\n",
       "        text-align: right;\n",
       "    }\n",
       "</style>\n",
       "<table border=\"1\" class=\"dataframe\">\n",
       "  <thead>\n",
       "    <tr style=\"text-align: right;\">\n",
       "      <th></th>\n",
       "      <th>0</th>\n",
       "      <th>1</th>\n",
       "      <th>2</th>\n",
       "      <th>3</th>\n",
       "      <th>4</th>\n",
       "    </tr>\n",
       "  </thead>\n",
       "  <tbody>\n",
       "    <tr>\n",
       "      <th>0</th>\n",
       "      <td>5.1</td>\n",
       "      <td>3.5</td>\n",
       "      <td>1.4</td>\n",
       "      <td>0.2</td>\n",
       "      <td>Iris-setosa</td>\n",
       "    </tr>\n",
       "    <tr>\n",
       "      <th>1</th>\n",
       "      <td>4.9</td>\n",
       "      <td>3.0</td>\n",
       "      <td>1.4</td>\n",
       "      <td>0.2</td>\n",
       "      <td>Iris-setosa</td>\n",
       "    </tr>\n",
       "    <tr>\n",
       "      <th>2</th>\n",
       "      <td>4.7</td>\n",
       "      <td>3.2</td>\n",
       "      <td>1.3</td>\n",
       "      <td>0.2</td>\n",
       "      <td>Iris-setosa</td>\n",
       "    </tr>\n",
       "    <tr>\n",
       "      <th>3</th>\n",
       "      <td>4.6</td>\n",
       "      <td>3.1</td>\n",
       "      <td>1.5</td>\n",
       "      <td>0.2</td>\n",
       "      <td>Iris-setosa</td>\n",
       "    </tr>\n",
       "    <tr>\n",
       "      <th>4</th>\n",
       "      <td>5.0</td>\n",
       "      <td>3.6</td>\n",
       "      <td>1.4</td>\n",
       "      <td>0.2</td>\n",
       "      <td>Iris-setosa</td>\n",
       "    </tr>\n",
       "    <tr>\n",
       "      <th>...</th>\n",
       "      <td>...</td>\n",
       "      <td>...</td>\n",
       "      <td>...</td>\n",
       "      <td>...</td>\n",
       "      <td>...</td>\n",
       "    </tr>\n",
       "    <tr>\n",
       "      <th>95</th>\n",
       "      <td>5.7</td>\n",
       "      <td>3.0</td>\n",
       "      <td>4.2</td>\n",
       "      <td>1.2</td>\n",
       "      <td>Iris-versicolor</td>\n",
       "    </tr>\n",
       "    <tr>\n",
       "      <th>96</th>\n",
       "      <td>5.7</td>\n",
       "      <td>2.9</td>\n",
       "      <td>4.2</td>\n",
       "      <td>1.3</td>\n",
       "      <td>Iris-versicolor</td>\n",
       "    </tr>\n",
       "    <tr>\n",
       "      <th>97</th>\n",
       "      <td>6.2</td>\n",
       "      <td>2.9</td>\n",
       "      <td>4.3</td>\n",
       "      <td>1.3</td>\n",
       "      <td>Iris-versicolor</td>\n",
       "    </tr>\n",
       "    <tr>\n",
       "      <th>98</th>\n",
       "      <td>5.1</td>\n",
       "      <td>2.5</td>\n",
       "      <td>3.0</td>\n",
       "      <td>1.1</td>\n",
       "      <td>Iris-versicolor</td>\n",
       "    </tr>\n",
       "    <tr>\n",
       "      <th>99</th>\n",
       "      <td>5.7</td>\n",
       "      <td>2.8</td>\n",
       "      <td>4.1</td>\n",
       "      <td>1.3</td>\n",
       "      <td>Iris-versicolor</td>\n",
       "    </tr>\n",
       "  </tbody>\n",
       "</table>\n",
       "<p>100 rows × 5 columns</p>\n",
       "</div>"
      ],
      "text/plain": [
       "      0    1    2    3                4\n",
       "0   5.1  3.5  1.4  0.2      Iris-setosa\n",
       "1   4.9  3.0  1.4  0.2      Iris-setosa\n",
       "2   4.7  3.2  1.3  0.2      Iris-setosa\n",
       "3   4.6  3.1  1.5  0.2      Iris-setosa\n",
       "4   5.0  3.6  1.4  0.2      Iris-setosa\n",
       "..  ...  ...  ...  ...              ...\n",
       "95  5.7  3.0  4.2  1.2  Iris-versicolor\n",
       "96  5.7  2.9  4.2  1.3  Iris-versicolor\n",
       "97  6.2  2.9  4.3  1.3  Iris-versicolor\n",
       "98  5.1  2.5  3.0  1.1  Iris-versicolor\n",
       "99  5.7  2.8  4.1  1.3  Iris-versicolor\n",
       "\n",
       "[100 rows x 5 columns]"
      ]
     },
     "execution_count": 4,
     "metadata": {},
     "output_type": "execute_result"
    }
   ],
   "source": [
    "df = df[(df[4] == 'Iris-setosa') | (df[4] == 'Iris-versicolor')]\n",
    "(df)"
   ]
  },
  {
   "cell_type": "markdown",
   "id": "da4ea817",
   "metadata": {},
   "source": [
    "##### 2. To improve the gradient descent do a feature scaling. "
   ]
  },
  {
   "cell_type": "code",
   "execution_count": 5,
   "id": "10c81ed1",
   "metadata": {},
   "outputs": [],
   "source": [
    "df[0] = (df[0] - df[0].mean()) / df[0].std()\n",
    "df[2] = (df[2] - df[2].mean()) / df[2].std()"
   ]
  },
  {
   "cell_type": "markdown",
   "id": "aee04926",
   "metadata": {},
   "source": [
    "##### 3. Plot the scaled petal length vs. sepal length features and classify the data as setosa or versicolor. Use a blue x mark for versicolor and red solid circle for setosa."
   ]
  },
  {
   "cell_type": "code",
   "execution_count": 6,
   "id": "8b787771",
   "metadata": {},
   "outputs": [
    {
     "data": {
      "image/png": "[encoded data removed]",
      "text/plain": [
       "<Figure size 720x432 with 1 Axes>"
      ]
     },
     "metadata": {
      "needs_background": "light"
     },
     "output_type": "display_data"
    }
   ],
   "source": [
    "fig = plt.figure(figsize=(10,6))\n",
    "plt.scatter(df[0][df[4] == 'Iris-versicolor'], df[2][df[4] == 'Iris-versicolor'], marker='x', color='blue', label='Versicolor')\n",
    "plt.scatter(df[0][df[4] == 'Iris-setosa'], df[2][df[4] == 'Iris-setosa'], marker='o', color='red', label='Setosa')\n",
    "plt.xlabel('Scaled Sepal Length')\n",
    "plt.ylabel('Scaled Petal Length')\n",
    "plt.legend()\n",
    "plt.show()"
   ]
  },
  {
   "cell_type": "markdown",
   "id": "4873e8df",
   "metadata": {},
   "source": [
    "#### Part III - Implementation of Adaline\n",
    "##### 1. Implement the Adaline algorithm to your data set with learning rate of 0.01."
   ]
  },
  {
   "cell_type": "code",
   "execution_count": 7,
   "id": "484dd839",
   "metadata": {},
   "outputs": [
    {
     "data": {
      "text/plain": [
       "<__main__.Adaline at 0x170fab82700>"
      ]
     },
     "execution_count": 7,
     "metadata": {},
     "output_type": "execute_result"
    }
   ],
   "source": [
    "class Adaline:\n",
    "    def __init__(self, learning_rate=0.01, n_epochs=100):\n",
    "        self.learning_rate = learning_rate\n",
    "        self.n_epochs = n_epochs\n",
    "\n",
    "    def fit(self, X, y):\n",
    "        self.weights = np.zeros(1 + X.shape[1])\n",
    "        self.costs = []\n",
    "\n",
    "        for _ in range(self.n_epochs):\n",
    "            output = self.net_input(X)\n",
    "            errors = (y - output)\n",
    "            self.weights[1:] += self.learning_rate * X.T.dot(errors)\n",
    "            self.weights[0] += self.learning_rate * errors.sum()\n",
    "            cost = (errors ** 2).sum() / 2.0\n",
    "            self.costs.append(cost)\n",
    "        return self\n",
    "\n",
    "    def net_input(self, X):\n",
    "        return np.dot(X, self.weights[1:]) + self.weights[0]\n",
    "\n",
    "    def predict(self, X):\n",
    "        return np.where(self.net_input(X) >= 0.0, 1, -1)\n",
    "\n",
    "# Prepare data\n",
    "X = df.iloc[:, [0, 2]].values\n",
    "y = np.where(df[4] == 'Iris-versicolor', 1, -1)\n",
    "\n",
    "# Create and train Adaline\n",
    "adaline = Adaline(learning_rate=0.01, n_epochs=20)\n",
    "adaline.fit(X, y)"
   ]
  },
  {
   "cell_type": "markdown",
   "id": "a85fdf50",
   "metadata": {},
   "source": [
    "##### 2. Plot the mean squared deviation vs. epoch. Does the algorithm converge fast? How many epochs was executed?"
   ]
  },
  {
   "cell_type": "code",
   "execution_count": 8,
   "id": "6efbc0e2",
   "metadata": {},
   "outputs": [
    {
     "data": {
      "image/png": "[encoded data removed]",
      "text/plain": [
       "<Figure size 720x432 with 1 Axes>"
      ]
     },
     "metadata": {
      "needs_background": "light"
     },
     "output_type": "display_data"
    },
    {
     "name": "stdout",
     "output_type": "stream",
     "text": [
      "Number of epochs executed: 20\n"
     ]
    }
   ],
   "source": [
    "fig = plt.figure(figsize=(10,6))\n",
    "plt.plot(range(1, len(adaline.costs) + 1), adaline.costs, marker='o')\n",
    "plt.xlabel('Epochs')\n",
    "plt.ylabel('Mean Squared Deviation')\n",
    "plt.title('Adaline - Learning rate 0.01')\n",
    "plt.show()\n",
    "print(\"Number of epochs executed:\", len(adaline.costs))"
   ]
  },
  {
   "cell_type": "markdown",
   "id": "94b3c5e1",
   "metadata": {},
   "source": [
    "##### 3. Classify the data set into two groups: Setosa and Versicolor, where now the output is the predicted output in the Adaline algorithm. Note you must use the Threshold function (Unit step function) so that the output will have only two possible values."
   ]
  },
  {
   "cell_type": "code",
   "execution_count": 9,
   "id": "c2faedef",
   "metadata": {},
   "outputs": [
    {
     "data": {
      "text/html": [
       "<div>\n",
       "<style scoped>\n",
       "    .dataframe tbody tr th:only-of-type {\n",
       "        vertical-align: middle;\n",
       "    }\n",
       "\n",
       "    .dataframe tbody tr th {\n",
       "        vertical-align: top;\n",
       "    }\n",
       "\n",
       "    .dataframe thead th {\n",
       "        text-align: right;\n",
       "    }\n",
       "</style>\n",
       "<table border=\"1\" class=\"dataframe\">\n",
       "  <thead>\n",
       "    <tr style=\"text-align: right;\">\n",
       "      <th></th>\n",
       "      <th>Sepal Length (scaled)</th>\n",
       "      <th>Petal Length (scaled)</th>\n",
       "      <th>Predicted Output</th>\n",
       "      <th>Actual Class</th>\n",
       "    </tr>\n",
       "  </thead>\n",
       "  <tbody>\n",
       "    <tr>\n",
       "      <th>0</th>\n",
       "      <td>-0.578153</td>\n",
       "      <td>-1.009275</td>\n",
       "      <td>-1</td>\n",
       "      <td>-1</td>\n",
       "    </tr>\n",
       "    <tr>\n",
       "      <th>1</th>\n",
       "      <td>-0.889826</td>\n",
       "      <td>-1.009275</td>\n",
       "      <td>-1</td>\n",
       "      <td>-1</td>\n",
       "    </tr>\n",
       "    <tr>\n",
       "      <th>2</th>\n",
       "      <td>-1.201499</td>\n",
       "      <td>-1.078309</td>\n",
       "      <td>-1</td>\n",
       "      <td>-1</td>\n",
       "    </tr>\n",
       "    <tr>\n",
       "      <th>3</th>\n",
       "      <td>-1.357336</td>\n",
       "      <td>-0.940241</td>\n",
       "      <td>-1</td>\n",
       "      <td>-1</td>\n",
       "    </tr>\n",
       "    <tr>\n",
       "      <th>4</th>\n",
       "      <td>-0.733990</td>\n",
       "      <td>-1.009275</td>\n",
       "      <td>-1</td>\n",
       "      <td>-1</td>\n",
       "    </tr>\n",
       "    <tr>\n",
       "      <th>...</th>\n",
       "      <td>...</td>\n",
       "      <td>...</td>\n",
       "      <td>...</td>\n",
       "      <td>...</td>\n",
       "    </tr>\n",
       "    <tr>\n",
       "      <th>95</th>\n",
       "      <td>0.356865</td>\n",
       "      <td>0.923673</td>\n",
       "      <td>1</td>\n",
       "      <td>1</td>\n",
       "    </tr>\n",
       "    <tr>\n",
       "      <th>96</th>\n",
       "      <td>0.356865</td>\n",
       "      <td>0.923673</td>\n",
       "      <td>1</td>\n",
       "      <td>1</td>\n",
       "    </tr>\n",
       "    <tr>\n",
       "      <th>97</th>\n",
       "      <td>1.136048</td>\n",
       "      <td>0.992707</td>\n",
       "      <td>1</td>\n",
       "      <td>1</td>\n",
       "    </tr>\n",
       "    <tr>\n",
       "      <th>98</th>\n",
       "      <td>-0.578153</td>\n",
       "      <td>0.095267</td>\n",
       "      <td>1</td>\n",
       "      <td>1</td>\n",
       "    </tr>\n",
       "    <tr>\n",
       "      <th>99</th>\n",
       "      <td>0.356865</td>\n",
       "      <td>0.854639</td>\n",
       "      <td>1</td>\n",
       "      <td>1</td>\n",
       "    </tr>\n",
       "  </tbody>\n",
       "</table>\n",
       "<p>100 rows × 4 columns</p>\n",
       "</div>"
      ],
      "text/plain": [
       "    Sepal Length (scaled)  Petal Length (scaled)  Predicted Output  \\\n",
       "0               -0.578153              -1.009275                -1   \n",
       "1               -0.889826              -1.009275                -1   \n",
       "2               -1.201499              -1.078309                -1   \n",
       "3               -1.357336              -0.940241                -1   \n",
       "4               -0.733990              -1.009275                -1   \n",
       "..                    ...                    ...               ...   \n",
       "95               0.356865               0.923673                 1   \n",
       "96               0.356865               0.923673                 1   \n",
       "97               1.136048               0.992707                 1   \n",
       "98              -0.578153               0.095267                 1   \n",
       "99               0.356865               0.854639                 1   \n",
       "\n",
       "    Actual Class  \n",
       "0             -1  \n",
       "1             -1  \n",
       "2             -1  \n",
       "3             -1  \n",
       "4             -1  \n",
       "..           ...  \n",
       "95             1  \n",
       "96             1  \n",
       "97             1  \n",
       "98             1  \n",
       "99             1  \n",
       "\n",
       "[100 rows x 4 columns]"
      ]
     },
     "execution_count": 9,
     "metadata": {},
     "output_type": "execute_result"
    }
   ],
   "source": [
    "def threshold(x):\n",
    "    return np.where(x >= 0, 1, -1)\n",
    "predicted_output = adaline.predict(X)\n",
    "predicted_output = threshold(predicted_output)\n",
    "results_df = pd.DataFrame({'Sepal Length (scaled)': X[:, 0],\n",
    "                           'Petal Length (scaled)': X[:, 1],\n",
    "                           'Predicted Output': predicted_output,\n",
    "                           'Actual Class': np.where(df[4] == 'Iris-versicolor', 1, -1)})\n",
    "(results_df)"
   ]
  },
  {
   "cell_type": "markdown",
   "id": "6dfc30cd",
   "metadata": {},
   "source": [
    "##### 4. Plot the clustered data set using a 2D-colormap graph in python where the color indicates the predicted output and the x- and y-axes are the features. "
   ]
  },
  {
   "cell_type": "code",
   "execution_count": 12,
   "id": "5a39ed1e",
   "metadata": {},
   "outputs": [
    {
     "data": {
      "image/png": "[encoded data removed]",
      "text/plain": [
       "<Figure size 720x432 with 1 Axes>"
      ]
     },
     "metadata": {
      "needs_background": "light"
     },
     "output_type": "display_data"
    }
   ],
   "source": [
    "fig = plt.figure(figsize=(10,6))\n",
    "ax = fig.add_subplot(111)\n",
    "ax.set_title(\"Adaline - Clustered Data\",fontsize=14)\n",
    "ax.set_xlabel(\"Sepal Length\",fontsize=12)\n",
    "ax.set_ylabel(\"Petal Length\",fontsize=12)\n",
    "ax.grid(True,linestyle='-',color='0.75')\n",
    "X = df[0]\n",
    "y = df[2]\n",
    "z = predicted_output\n",
    "\n",
    "# scatter with colormap mapping to z value\n",
    "ax.scatter(X,y,s=20,c=z, marker = 'o', cmap = cm.jet );\n",
    "\n",
    "plt.show()"
   ]
  }
 ],
 "metadata": {
  "kernelspec": {
   "display_name": "Python 3 (ipykernel)",
   "language": "python",
   "name": "python3"
  },
  "language_info": {
   "codemirror_mode": {
    "name": "ipython",
    "version": 3
   },
   "file_extension": ".py",
   "mimetype": "text/x-python",
   "name": "python",
   "nbconvert_exporter": "python",
   "pygments_lexer": "ipython3",
   "version": "3.11.7"
  }
 },
 "nbformat": 4,
 "nbformat_minor": 5
}
